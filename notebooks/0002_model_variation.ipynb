{
 "cells": [
  {
   "cell_type": "code",
   "execution_count": 1,
   "id": "aa56a3e7",
   "metadata": {},
   "outputs": [],
   "source": [
    "from common import setup_imports\n",
    "from constants import *\n",
    "\n",
    "setup_imports()\n",
    "\n",
    "%load_ext autoreload\n",
    "%autoreload 2"
   ]
  },
  {
   "cell_type": "markdown",
   "id": "573e9579",
   "metadata": {},
   "source": [
    "# 0002 Model Variation\n",
    "Train and evaluate different models in various configuraion"
   ]
  },
  {
   "cell_type": "code",
   "execution_count": 2,
   "id": "4d584132",
   "metadata": {},
   "outputs": [
    {
     "name": "stderr",
     "output_type": "stream",
     "text": [
      "/home/automatedtomato/github.com/automatedtomato/sar-yolo/.venv/lib/python3.12/site-packages/google/auth/_default.py:76: UserWarning: Your application has authenticated using end user credentials from Google Cloud SDK without a quota project. You might receive a \"quota exceeded\" or \"API not enabled\" error. See the following page for troubleshooting: https://cloud.google.com/docs/authentication/adc-troubleshooting/user-creds. \n",
      "  warnings.warn(_CLOUD_SDK_CREDENTIALS_WARNING)\n",
      "/home/automatedtomato/github.com/automatedtomato/sar-yolo/.venv/lib/python3.12/site-packages/google/auth/_default.py:76: UserWarning: Your application has authenticated using end user credentials from Google Cloud SDK without a quota project. You might receive a \"quota exceeded\" or \"API not enabled\" error. See the following page for troubleshooting: https://cloud.google.com/docs/authentication/adc-troubleshooting/user-creds. \n",
      "  warnings.warn(_CLOUD_SDK_CREDENTIALS_WARNING)\n"
     ]
    }
   ],
   "source": [
    "from pipeline import Pipeline\n",
    "\n",
    "pipeline = Pipeline(config_path=os.path.join(CONFIG_PATH, '004_32batch.yaml'))"
   ]
  },
  {
   "cell_type": "code",
   "execution_count": null,
   "id": "60907806",
   "metadata": {},
   "outputs": [
    {
     "name": "stdout",
     "output_type": "stream",
     "text": [
      "\n",
      "Train Samples: 6129, Val Samples: 2043, Test Samples: 2043\n",
      "\n",
      "Using device: cuda\n",
      "Training model...\n",
      "  Number of epochs: 50\n",
      "  Device: cuda\n",
      "  Patience: 5\n",
      "  Save path: 004_best_model.pt\n",
      "\n",
      "  Epoch: 1/50 - Batch: 0/767 - Loss: 61656.0742\n",
      "      (Coord: 915.1446, Obj: 530.3451, NoObj: 60210.5859, Class: 0.0000)\n",
      "  Epoch: 1/50 - Batch: 100/767 - Loss: 30059.2949\n",
      "      (Coord: 325.1595, Obj: 1232.9246, NoObj: 28501.2109, Class: 0.0000)\n",
      "  Epoch: 1/50 - Batch: 200/767 - Loss: 23637.1992\n",
      "      (Coord: 188.1812, Obj: 1451.0254, NoObj: 21997.9922, Class: 0.0000)\n",
      "  Epoch: 1/50 - Batch: 300/767 - Loss: 19603.5879\n",
      "      (Coord: 144.3182, Obj: 1273.9852, NoObj: 18185.2852, Class: 0.0000)\n",
      "  Epoch: 1/50 - Batch: 400/767 - Loss: 17546.5020\n",
      "      (Coord: 190.9791, Obj: 2064.6270, NoObj: 15290.8955, Class: 0.0000)\n",
      "  Epoch: 1/50 - Batch: 500/767 - Loss: 15007.5156\n",
      "      (Coord: 106.7282, Obj: 1708.0310, NoObj: 13192.7568, Class: 0.0000)\n"
     ]
    }
   ],
   "source": [
    "metrics, model = pipeline.train_val_pipeline()"
   ]
  },
  {
   "cell_type": "code",
   "execution_count": null,
   "id": "8f563ecb",
   "metadata": {},
   "outputs": [],
   "source": []
  }
 ],
 "metadata": {
  "kernelspec": {
   "display_name": ".venv",
   "language": "python",
   "name": "python3"
  },
  "language_info": {
   "codemirror_mode": {
    "name": "ipython",
    "version": 3
   },
   "file_extension": ".py",
   "mimetype": "text/x-python",
   "name": "python",
   "nbconvert_exporter": "python",
   "pygments_lexer": "ipython3",
   "version": "3.12.3"
  }
 },
 "nbformat": 4,
 "nbformat_minor": 5
}
