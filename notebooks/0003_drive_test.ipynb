{
 "cells": [
  {
   "cell_type": "code",
   "execution_count": 9,
   "id": "3f0572a3",
   "metadata": {},
   "outputs": [
    {
     "name": "stdout",
     "output_type": "stream",
     "text": [
      "The autoreload extension is already loaded. To reload it, use:\n",
      "  %reload_ext autoreload\n"
     ]
    }
   ],
   "source": [
    "from common import setup_imports\n",
    "from constants import *\n",
    "import os\n",
    "\n",
    "setup_imports()\n",
    "\n",
    "from pipeline import Pipeline\n",
    "\n",
    "%load_ext autoreload\n",
    "%autoreload 2"
   ]
  },
  {
   "cell_type": "code",
   "execution_count": null,
   "id": "c71ec7fb",
   "metadata": {},
   "outputs": [
    {
     "name": "stdout",
     "output_type": "stream",
     "text": [
      "\n",
      "utils.load_config:: Loaded config from /home/automatedtomato/github.com/automatedtomato/sar-yolo/config/006.yaml\n",
      "\n",
      "utils.load_config:: Validated config: {'model': {'name': 'yolov3_sample_006', 'input_size': 416, 'n_classes': 0, 'grid_sizes': [13, 26, 52], 'anchors': [[[42.0, 27.0], [34.0, 58.0], [64.0, 35.0]], [[13.0, 25.0], [28.0, 20.0], [21.0, 38.0]], [[4.0, 6.0], [8.0, 14.0], [18.0, 13.0]]]}, 'data': {'bucket_name': 'sar-dataset', 'img_ext': '.png', 'annot_ext': '.txt', 'test': {'img_path': 'data/new_dataset3/test/images', 'annot_path': 'data/new_dataset3/test/labels'}, 'train': {'img_path': 'data/new_dataset3/train/images', 'annot_path': 'data/new_dataset3/train/labels'}, 'val': {'img_path': 'data/new_dataset3/val/images', 'annot_path': 'data/new_dataset3/val/labels'}, 'source': 'file', 'data_dir': '/home/automatedtomato/github.com/automatedtomato/sar-yolo/sar_dataset'}, 'dataloader': {'batch_size': 8, 'num_workers': 4, 'pin_memory': True}, 'training': {'log_interval': 100, 'accumulation_steps': 1, 'n_epochs': 3, 'patience': None, 'save_path': '006_best_model.pt'}, 'loss': {'lambda_coord': 5.0, 'lambda_obj': 1.0, 'lambda_noobj': 0.5, 'lambda_class': 1.0, 'obj_threshold': 0.5}, 'optimizer': {'type': 'adam', 'lr': 0.001, 'weight_decay': 0.001}, 'evaluating': {'iou_threshold': 0.5, 'nms_threshold': 0.5, 'conf_threshold': 0.5, 'fig_path': 'figures/006_lr.png', 'metrics_path': '../metrics/006_metrics.csv'}}\n",
      "\n",
      "utils.data_stream:: Connected to directory: /home/automatedtomato/github.com/automatedtomato/sar-yolo/sar_dataset\n"
     ]
    }
   ],
   "source": [
    "pl = Pipeline(config_path=os.path.join(CONFIG_PATH, '006.yaml'), load_ratio=0.2)\n",
    "metrics, model = pl.train_val_pipeline()"
   ]
  },
  {
   "cell_type": "code",
   "execution_count": 3,
   "id": "f0c9584a",
   "metadata": {},
   "outputs": [
    {
     "data": {
      "text/plain": [
       "{'model': 'yolov3_sample_006',\n",
       " 'n_epochs': 1,\n",
       " 'learning_rate': 0.001,\n",
       " 'weight_decay': 0.001,\n",
       " 'batch_size': 8,\n",
       " 'accumulation_steps': 1,\n",
       " 'total_loss': 4801.0922,\n",
       " 'mAP': 0.0,\n",
       " 'mAP_0.3': 0.0,\n",
       " 'precision': 0.0,\n",
       " 'recall': 0.0,\n",
       " 'recall_0.3': 0.0,\n",
       " 'IoU': 0.0,\n",
       " 'f1_score': 0.0,\n",
       " 'n_preds': 0,\n",
       " 'n_ground_truths': 6129}"
      ]
     },
     "execution_count": 3,
     "metadata": {},
     "output_type": "execute_result"
    }
   ],
   "source": [
    "metrics"
   ]
  },
  {
   "cell_type": "code",
   "execution_count": null,
   "id": "627eaafb",
   "metadata": {},
   "outputs": [],
   "source": []
  }
 ],
 "metadata": {
  "kernelspec": {
   "display_name": ".venv",
   "language": "python",
   "name": "python3"
  },
  "language_info": {
   "codemirror_mode": {
    "name": "ipython",
    "version": 3
   },
   "file_extension": ".py",
   "mimetype": "text/x-python",
   "name": "python",
   "nbconvert_exporter": "python",
   "pygments_lexer": "ipython3",
   "version": "3.12.3"
  }
 },
 "nbformat": 4,
 "nbformat_minor": 5
}
